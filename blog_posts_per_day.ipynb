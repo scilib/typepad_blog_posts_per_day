{
  "nbformat": 4,
  "nbformat_minor": 0,
  "metadata": {
    "colab": {
      "name": "blog posts per day.ipynb",
      "provenance": [],
      "collapsed_sections": []
    },
    "kernelspec": {
      "name": "python3",
      "display_name": "Python 3"
    },
    "language_info": {
      "name": "python"
    }
  },
  "cells": [
    {
      "cell_type": "markdown",
      "metadata": {
        "id": "gDMHRJ1xHMMz"
      },
      "source": [
        "Plot number of blog posts per day, by parsing Typepad [plaintext blog export](https://help.typepad.com/back_up.html).\n",
        "\n",
        "Richard Akerman\n",
        "April 4, 2021\n",
        "\n",
        "Code developed in [Google Colaboratory](https://colab.research.google.com/) will be posted to GitHub (scilib) with MIT License.\n",
        "\n",
        "Had to download and re-upload to Colaboratory because it wouldn't save the original for some unknown reason.\n",
        "\n",
        "Always remember you have to re-run this code block by code block from the top, when starting a new session."
      ]
    },
    {
      "cell_type": "markdown",
      "metadata": {
        "id": "LezPz9oyH2-0"
      },
      "source": [
        "# Visual inspection of the plaintext download\n",
        "\n",
        "Text viewed in Mac BBEdit.\n",
        "\n",
        "Header block for each blog post is:\n",
        "<pre>\n",
        "AUTHOR: firstname lastname\n",
        "AUTHOR EMAIL: author_email_address\n",
        "TITLE: title\n",
        "STATUS: for published blog posts the status is \"Publish\"\n",
        "ALLOW COMMENTS: allow_comments looks like it is 0 or 1.  Seems likely that 1 is true and 0 is false.\n",
        "CONVERT BREAKS: convert_breaks - one valid value is \"wysiwyg\"\n",
        "ALLOW PINGS: allow_pings also 0 or 1, again presumably 1 is true, 0 is false.\n",
        "BASENAME: basename is the post-unique part of the URL e.g.\"jupyter-notebooks-in-google-colaboratory\"\n",
        "CATEGORY: a separate entry on a separate line for each category ( each one headed with CATEGORY: ),\n",
        " the content is the name of a single category e.g. \"Software Development\"\n",
        "UNIQUE URL: unique_url is the full URL to the post e.g.\n",
        " https://scilib.typepad.com/science_library_pad/2021/03/jupyter-notebooks-in-google-colaboratory.html \n",
        "DATE: date time, in MM/DD/YYYY and HH:MM:SS AM/PM e.g. 03/30/2021 08:37:26 PM\n",
        "</pre>\n",
        "\n",
        "So basically just want to pull out all the dates for blog posts with status = \"Publish\", and then count per date."
      ]
    },
    {
      "cell_type": "markdown",
      "metadata": {
        "id": "_CXKgIWPWsBx"
      },
      "source": [
        "# Start of pseudocode and coding information\n"
      ]
    },
    {
      "cell_type": "markdown",
      "metadata": {
        "id": "mPqOH1jhSkDE"
      },
      "source": [
        "# Open and read the file\n",
        "\n",
        "Note this of course is using a particular static filename in a variable.\n",
        "\n",
        "To do this on Colaboratory, need to decide whether to do it locally from drive, or to open it from computer's file system each time.\n",
        "\n",
        "Google Colab Support Notebook - External data: Local Files, Drive, Sheets, and Cloud Storage https://colab.research.google.com/notebooks/io.ipynb\n",
        "\n",
        "Due to third-party cookie issues with uploads, it turns out to be way easier to just access the file from Google Drive.\n",
        "\n",
        "So bring over the Google Drive code from my StatsCan Chart.ipynb notebook.\n",
        "\n",
        "Note that for cleanup [Google recommends](https://colab.research.google.com/notebooks/io.ipynb#scrollTo=u22w3BFiOveA) unmounting when done:\n",
        "\n",
        "<code>drive.flush_and_unmount()</code>"
      ]
    },
    {
      "cell_type": "markdown",
      "metadata": {
        "id": "j5jCqSYQJtwY"
      },
      "source": [
        "# Parse the file: How does Python parse plaintext?\n",
        "\n",
        "Computer Hope - [How to extract specific portions of a text file using Python](https://www.computerhope.com/issues/ch001721.htm)\n",
        "\n",
        "Although not efficient, it seems like it would make sense to parse line by line, and set a flag if status is \"Publish\", in order to add that post to the running counts."
      ]
    },
    {
      "cell_type": "markdown",
      "metadata": {
        "id": "yKTHGdwNMT51"
      },
      "source": [
        "\n",
        "# Parse the file: How to check strings, parse out date\n",
        "\n",
        "Need to do some string checking.  Not sure if this is the most efficient way, but anyway.\n",
        "\n",
        "Stack Overflow - [Does Python have a string 'contains' substring method?](https://stackoverflow.com/questions/3437059/does-python-have-a-string-contains-substring-method)\n",
        "\n",
        "Parsing out date\n",
        "\n",
        "Stack Abuse - [Converting Strings to datetime in Python](https://stackabuse.com/converting-strings-to-datetime-in-python/)\n",
        "\n",
        "Don't forget to import datetime.\n",
        "\n",
        "Question: Does Python prefer all imports at the beginning, or closer to use?\n",
        "\n",
        "Parsing considerations:\n",
        "\n",
        "*   will break if your blog posts use \"DATE:\" or \"AUTHOR:\" in the body of the blog post\n",
        "*   hardcoded filename\n",
        "*   will break if file format changes\n",
        "*   some potential file size risk if the file is gigantic\n",
        "*   should be checking for returned error codes\n"
      ]
    },
    {
      "cell_type": "markdown",
      "metadata": {
        "id": "Y4REy-aVMWvV"
      },
      "source": [
        "\n",
        "# do dataframe things\n",
        "\n",
        "w3schools - [Python Dictionaries](https://www.w3schools.com/python/python_dictionaries.asp)\n",
        "\n",
        "Stack Overflow - [append dictionary to data frame](https://stackoverflow.com/questions/51774826/append-dictionary-to-data-frame)\n",
        "\n",
        "You're supposed to make a list of lists or a list of dictionaries, and then make the dataframe out of the final list.\n",
        "\n",
        "Stack Overflow - [Creating an empty Pandas DataFrame, then filling it?](https://stackoverflow.com/questions/13784192/creating-an-empty-pandas-dataframe-then-filling-it)\n",
        "\n",
        "Stack Overflow - [How can I create an array/list of dictionaries in python?](https://stackoverflow.com/questions/2397754/how-can-i-create-an-array-list-of-dictionaries-in-python)\n",
        "\n",
        "Stack Overflow - [Convert list of dictionaries to a pandas DataFrame](https://stackoverflow.com/questions/20638006/convert-list-of-dictionaries-to-a-pandas-dataframe)\n",
        "\n",
        "thispointer - [Pandas: Create Dataframe from list of dictionaries](https://thispointer.com/pandas-create-dataframe-from-list-of-dictionaries/)\n"
      ]
    },
    {
      "cell_type": "markdown",
      "metadata": {
        "id": "UPUzPHrxMY2j"
      },
      "source": [
        "\n",
        "# dataframe counting magic\n",
        "\n",
        "Python doesn't like iteration, apparently.  Just use built-in methods.\n",
        "\n",
        "kanoki - [How to use Pandas Count and Value_Counts](https://kanoki.org/2020/03/09/how-to-use-pandas-count-and-value_counts/)\n",
        "\n",
        "Stack Overflow - [changing sort in value_counts](https://stackoverflow.com/questions/43855474/changing-sort-in-value-counts)\n"
      ]
    },
    {
      "cell_type": "markdown",
      "metadata": {
        "id": "PDd-FaQ9MbED"
      },
      "source": [
        "\n",
        "# Extract the date from the MultiIndex\n",
        "\n",
        "[pandas.MultiIndex](https://pandas.pydata.org/pandas-docs/stable/reference/api/pandas.MultiIndex.html)\n"
      ]
    },
    {
      "cell_type": "markdown",
      "metadata": {
        "id": "L9zObQB0L7po"
      },
      "source": [
        "\n",
        "# Plot\n",
        "\n",
        "Data to Fish - [How to Plot a DataFrame using Pandas](https://datatofish.com/plot-dataframe-pandas/)\n"
      ]
    },
    {
      "cell_type": "markdown",
      "metadata": {
        "id": "zidqbCgZAXrm"
      },
      "source": [
        "# End of pseudocode and coding information"
      ]
    },
    {
      "cell_type": "markdown",
      "metadata": {
        "id": "-ECX-7BdZJUU"
      },
      "source": [
        "# Results of testing\n",
        "\n",
        "Using print() statements etc.\n",
        "\n",
        "Did various tests against the file, including first printing out the entire file\n",
        "(which made for a pretty long screen printout), and then counting the number of\n",
        "posts that say \"STATUS: Publish\" (published posts).\n",
        "\n",
        "Code fragments.  (In markdown comments.)\n",
        "<!---\n",
        "#       print(myline)                  # and print the string.\n",
        "\n",
        "# File read successful.  print shows each line, although presumably due to line termination character issues, \n",
        "#  it's showing an extra line break for each one.\n",
        "-->\n",
        "\n",
        "<!---\n",
        "        publish_count += 1\n",
        "\n",
        "print(publish_count)\n",
        "\n",
        "# 2404 published posts \n",
        "# check against Typepad...\n",
        "# Typepad doesn't seem to report published posts and draft posts separately,\n",
        "#  only the total number of posts\n",
        "# 2420 total posts\n",
        "# but you can also list just draft posts and manually count them\n",
        "# indeed I have 16 draft blog posts, which is a lot more than I thought\n",
        "# so 2420 - 16 = 2404 published posts as expected\n",
        "-->\n",
        "\n",
        "<!---\n",
        "import pandas as pd\n",
        "\n",
        "# make a dictionary entry\n",
        "# dataframe_columns = {'Date' : [], 'Post_Count' : 0}\n",
        "myline_dictionary = {'Date' : \"2007-04-04\", \"Post_Count\": 1}\n",
        "df_posts_per_date = pd.DataFrame()\n",
        "df_posts_per_date = df_posts_per_date.append(myline_dictionary, ignore_index=True)\n",
        "\n",
        "# well, this doesn't work\n",
        "# df_posts_per_date.append({'Date': ['1999'], 'Post_Count' : 1}, ignore_index=True)\n",
        "\n",
        "print(df_posts_per_date)\n",
        "-->\n",
        "<!---\n",
        "# sample and compare against actual published blog posts to verify the counts\n",
        "# sample_plot = pd.DataFrame(df_posts_plot.sample(5))\n",
        "# print(sample_plot)\n",
        "# sample_plot.plot.bar(figsize=(30,10),legend=False)\n",
        "# verified - counts are correct\n",
        "\n",
        "# look at just the first five rows to see what the sorting looks like\n",
        "# if you set use_index=False it just puts 0,1,2 as x axis labels instead of the dates\n",
        "# sample_plot = pd.DataFrame(df_posts_plot.head(5))\n",
        "# print(sample_plot)\n",
        "# ax = sample_plot.plot(kind='bar',figsize=(30,10),legend=False) # how do you suppress the plot from displaying?\n",
        "# ax.xaxis.set_visible(False)\n",
        "# verified - it is sequential by date\n",
        "-->\n",
        "\n",
        "Summary: It is able to correctly identify the 2404 published posts.\n"
      ]
    },
    {
      "cell_type": "markdown",
      "metadata": {
        "id": "-VH4p9BFMs3e"
      },
      "source": [
        "# Start of code"
      ]
    },
    {
      "cell_type": "markdown",
      "metadata": {
        "id": "RitWZVmcM4A8"
      },
      "source": [
        "# Mount the Google Drive\n",
        "\n",
        "(This only needs to be done once per active session.\n",
        "You will need to re-run it if your instance disconnects.)"
      ]
    },
    {
      "cell_type": "code",
      "metadata": {
        "colab": {
          "base_uri": "https://localhost:8080/"
        },
        "id": "AyBkSZbmVE0u",
        "outputId": "1c00313a-4eb7-4e46-9edf-bb932a866663"
      },
      "source": [
        "from google.colab import drive\n",
        "drive.mount('/content/gdrive')"
      ],
      "execution_count": 2,
      "outputs": [
        {
          "output_type": "stream",
          "text": [
            "Mounted at /content/gdrive\n"
          ],
          "name": "stdout"
        }
      ]
    },
    {
      "cell_type": "markdown",
      "metadata": {
        "id": "0_6TbaGfHKe9"
      },
      "source": [
        "# Make a dataframe of dates from blog posts file"
      ]
    },
    {
      "cell_type": "code",
      "metadata": {
        "id": "udupF-bjHLkn"
      },
      "source": [
        "import datetime\n",
        "import pandas as pd\n",
        "\n",
        "plaintext_blog_export_file = \"/content/gdrive/MyDrive/Colab Notebooks/plaintext export 4 April 2021.txt\"\n",
        "publish_count = 0\n",
        "published_flag = False\n",
        "list_of_myline_dictionary = []\n",
        "list_of_new_row_dictionary = []\n",
        "\n",
        "with open (plaintext_blog_export_file, 'rt') as myfile:   # Open for reading as text (\"rt\"), can also just put \"r\"?\n",
        "    for myline in myfile:                                 # For each line, read to a string      \n",
        "      if \"AUTHOR:\" in myline:\n",
        "          published_flag = False                          # start of a new blog post block, clear published status\n",
        "      if \"STATUS: Publish\" in myline :                    # now we need to parse watching for STATUS: Publish and extract the date of each published post                                                      \n",
        "        published_flag = True                             \n",
        "      if published_flag :\n",
        "        if \"DATE:\" in myline and not \"UPDATE:\" in myline: # need to filter lines that contain \"UPDATE:\" - kind of clumsy, and then need to parse out the date\n",
        "          date_time_obj = datetime.datetime .strptime(myline,'DATE: %m/%d/%Y %I:%M:%S %p\\n')  # had to include the newline \\n in the parsing         \n",
        "          blog_post_date = date_time_obj.date()\n",
        "\n",
        "# make a new dictionary entry with the date - we don't need a count, as each line represents a single post for that date\n",
        "# and then append it to the list of dictionaries\n",
        "\n",
        "          myline_dictionary = {'Date' : blog_post_date}\n",
        "          list_of_myline_dictionary.append(myline_dictionary)\n",
        "\n",
        "# now create a dataframe from the list of dictionaries\n",
        "df_posts_per_date = pd.DataFrame(list_of_myline_dictionary)\n",
        "\n",
        "# this creates a dataframe structured as I would expect\n"
      ],
      "execution_count": 13,
      "outputs": []
    },
    {
      "cell_type": "markdown",
      "metadata": {
        "id": "po8XLRIXJLQV"
      },
      "source": [
        "# Make a new dataframe with blog post counts per day\n"
      ]
    },
    {
      "cell_type": "code",
      "metadata": {
        "id": "AjaS0lqnInTH"
      },
      "source": [
        "# there is a magic dataframe way to get the totals without actually making any new variables\n",
        "\n",
        "# make a new dataframe with a column of the post counts using value_counts()\n",
        "#   value_counts() is a built-in method that is counting the number of instances of a thing\n",
        "#   in this case, it's counting the number of instances of each date\n",
        "# this gave me an ordered list of unique dates, and does a cumulative count\n",
        "# add sort_index() to keep it in date order\n",
        "\n",
        "# what this looks like is a kind of \"index\" column that is a datetype.date\n",
        "#   (except maybe not *exactly* an index column in the Python dataframes sense?)\n",
        "# and a Post_Count of the number of posts for that date\n",
        "#\n",
        "# Date        Post_Count\n",
        "# YYYY-MM-DD  ##\n",
        "df_posts_plot = pd.DataFrame(df_posts_per_date.value_counts().sort_index(), columns=['Post_Count'])\n"
      ],
      "execution_count": 14,
      "outputs": []
    },
    {
      "cell_type": "markdown",
      "metadata": {
        "id": "a7kZTqo5LGcR"
      },
      "source": [
        "# Make a date range from the start date to the end date\n",
        "\n",
        "using the dates extracted from the blog post export file"
      ]
    },
    {
      "cell_type": "code",
      "metadata": {
        "id": "ifXI27uULEDl"
      },
      "source": [
        "# make a date range from the start date to the end date\n",
        "#   The problem is that this is an unusual dataframe with dates not in a column \n",
        "#   but as the index.\n",
        "#   I think probably the dates are supposed to be in a column instead?\n",
        "\n",
        "# head(1) and tail(1) should give me the first and last date\n",
        "#   because of the way this dataframe is ordered\n",
        "\n",
        "# the type and value of this dataframe index is\n",
        "#   a *list* containing\n",
        "#     a *tuple* that is a single datetime date object\n",
        "# so the first (and only) item in that list's tuple should be the value we want\n",
        "#\n",
        "# to extract this single datetime value you use a comma with nothing after it\n",
        "#   e.g. start_date, =\n",
        "#   if you use an underscore to indicate an empty value e.g. start_date, _ =\n",
        "#     it will fail \n",
        "#     because then it expects two values\n",
        "\n",
        "# this is a really roundabout way to get to this result\n",
        "\n",
        "start_date, = df_posts_plot.head(1).index.to_flat_index().values[0]\n",
        "end_date, = df_posts_plot.tail(1).index.to_flat_index().values[0]\n",
        "\n",
        "# now make a date range of every day from the start_date to the end_date\n",
        "# and put it in a dataframe\n",
        "\n",
        "date_range = pd.date_range(start=start_date, end=end_date)\n",
        "date_range_frame = pd.DataFrame({'Date': date_range})\n"
      ],
      "execution_count": 15,
      "outputs": []
    },
    {
      "cell_type": "markdown",
      "metadata": {
        "id": "UEsjidlNLZ9U"
      },
      "source": [
        "# Make a new dataframe with 0 count for no-post dates, and Post_Count otherwise"
      ]
    },
    {
      "cell_type": "code",
      "metadata": {
        "id": "KrV1LGaZLZKn"
      },
      "source": [
        "# I don't think you're supposed to iterate in Python but anyway\n",
        "# this makes a new list of dictionaries with 0 for all non-matching dates\n",
        "for date_iterator in date_range_frame['Date'] :\n",
        "  \n",
        "  test_date = date_iterator.date()\n",
        "  if test_date not in df_posts_plot.index :\n",
        "      # a date where there were no posts\n",
        "      new_row_dictionary = {'Date' : test_date, 'Post_Count' : 0}\n",
        "  else :\n",
        "      # a date where there were posts; retrieve total from df_posts_plot\n",
        "      # this is probably a very non-Python way to do this\n",
        "      # it depends on the dataframe having a single cell that contains the count of the posts for a specific date\n",
        "      #  which is a format I have arranged above\n",
        "      new_row_dictionary = {'Date' : test_date, 'Post_Count' : int(df_posts_plot.at[test_date,\"Post_Count\"])} \n",
        "\n",
        "  # add that new dictionary (the date and post count) to the list of dictionaries    \n",
        "  list_of_new_row_dictionary.append(new_row_dictionary)\n",
        "# end for loop\n",
        "\n",
        "# turn the list of dictionaries into a dataframe\n",
        "df_posts_plot_plus_zeroes = pd.DataFrame(list_of_new_row_dictionary)\n"
      ],
      "execution_count": 16,
      "outputs": []
    },
    {
      "cell_type": "markdown",
      "metadata": {
        "id": "24LNkANY-0_Z"
      },
      "source": [
        "# Make the chart"
      ]
    },
    {
      "cell_type": "code",
      "metadata": {
        "colab": {
          "base_uri": "https://localhost:8080/",
          "height": 344
        },
        "id": "418C8Hv0-zuU",
        "outputId": "1cffdad2-ea92-481d-f54f-16116fcd0bb5"
      },
      "source": [
        "# want to plot a bar of height Post_Count for each Date\n",
        "# ultimately may want to bin by months\n",
        "\n",
        "# plot but suppress the x axis labels\n",
        "#   with new complete dataframe including zero posting days\n",
        "# need to set a y axis limit otherwise there is too much empty space \n",
        "# to discard the tuple that set_ylim produces, so that it doesn't display as\n",
        "#   part of the chart, assign it to the \"throwaway\" underscore variable: _ \n",
        "ymin = 0\n",
        "ymax = 10\n",
        "\n",
        "ax = df_posts_plot_plus_zeroes.plot.bar(figsize=(30,10),legend=False)\n",
        "ax.xaxis.set_visible(False)\n",
        "_ = ax.set_ylim([ymin,ymax])"
      ],
      "execution_count": 17,
      "outputs": [
        {
          "output_type": "display_data",
          "data": {
            "image/png": "[encoded data removed]",
            "text/plain": [
              "<Figure size 2160x720 with 1 Axes>"
            ]
          },
          "metadata": {
            "tags": [],
            "needs_background": "light"
          }
        }
      ]
    },
    {
      "cell_type": "markdown",
      "metadata": {
        "id": "GkgL0OZr_MZq"
      },
      "source": [
        "# End of code"
      ]
    },
    {
      "cell_type": "markdown",
      "metadata": {
        "id": "1rPUOeYRL2v8"
      },
      "source": [
        "# Sidebar: Uploading files from your local file system\n",
        "\n",
        "files.upload returns a dictionary of the files which were uploaded. The dictionary is keyed by the file name and values are the data which were uploaded.\n",
        "\n",
        "Note: Uploading will fail if you have third-party cookies blocked.  Which Google uploads and downloads require third-party cookies is inconsistent.\n",
        "\n",
        "Commented-out code below is sample code to do an upload.\n",
        "\n",
        "Stack Overflow - [Upload local files using Google Colab](https://stackoverflow.com/questions/48420759/upload-local-files-using-google-colab)\n",
        "\n",
        "Recommended solution is to [whitelist](https://support.google.com/chrome/answer/95647#zippy=%2Callow-or-block-cookies-for-a-specific-site) the address below in Chrome (assuming you're using Chrome).\n",
        "<pre>\n",
        "https://[*.]googleusercontent.com:443\n",
        "</pre>\n",
        "\n",
        "Firefox seems to Enable third-party cookies for specific sites by [manually disabling Enhanced Tracking Protection](https://support.mozilla.org/en-US/kb/third-party-cookies-firefox-tracking-protection) on a per-website basis, but it's not clear how you do that without actually visiting the website itself.\n",
        "\n",
        "Based on [Bugzilla Bug 1432644 Can't manually add exceptions to tracking protection list](https://bugzilla.mozilla.org/show_bug.cgi?id=1432644) it is probably impossible to whitelist <kbd>googleusercontent.com</kbd> in Firefox in the way that Chrome can.\n",
        "\n",
        "Conclusion: Access the files from Google Drive and avoid all of these issues.\n"
      ]
    },
    {
      "cell_type": "code",
      "metadata": {
        "id": "nUVuOBaCL_Sd"
      },
      "source": [
        "# This code fails with \"Upload widget is only available when the cell has been executed in the current browser session. Please rerun this cell to enable.\"\n",
        "# The failure is due to blocked third-party cookies.\n",
        "\n",
        "# from google.colab import files\n",
        "\n",
        "# uploaded = files.upload()\n",
        "\n",
        "# for fn in uploaded.keys():\n",
        "#  print('User uploaded file \"{name}\" with length {length} bytes'.format(\n",
        "#      name=fn, length=len(uploaded[fn])))"
      ],
      "execution_count": null,
      "outputs": []
    },
    {
      "cell_type": "markdown",
      "metadata": {
        "id": "g8HXogn7IQ_s"
      },
      "source": [
        "# Sidebar: Splitting a code or text block\n",
        "\n",
        "In Jupyter Notebook in general, CTRL SHIFT - to split a code or text block at the cursor.\n",
        "\n",
        "However in browser CTRL SHIFT - makes the text/view smaller.\n",
        "\n",
        "In Google Colaboratory on Windows use CTRL m -\n",
        "\n",
        "**Be very careful not to do CTRL m m which turns a code block into text.**\n",
        "\n",
        "(This is pretty bad design from Colaboratory.)\n",
        "\n",
        "Stack Overflow says use Command ⌘ instead of CTRL on a Mac but I haven't tested.\n",
        "\n",
        "Stack Overflow - [How to split a code cell in Google Colab?](https://stackoverflow.com/questions/66692402/how-to-split-a-code-cell-in-google-colab)\n",
        "\n",
        "If you need to undo, CTRL m z\n",
        "\n",
        "Also be aware that on Windows 10, CTRL SHIFT is the default to switch keyboard layouts.  To disable this, use the long sequence of settings:\n",
        "\n",
        "Windows Start - ⚙️ Settings - Devices - Typing - (scroll to the bottom) Advanced keyboard settings - Language bar options - (pops up a dialogue box) - Advanced key settings tab - Change Key Sequence...\n",
        "\n",
        "superuser / StackExchange - [Keyboard language keeps changing in Windows 10](https://superuser.com/questions/976947/keyboard-language-keeps-changing-in-windows-10)"
      ]
    },
    {
      "cell_type": "markdown",
      "metadata": {
        "id": "R1F4CodEJW0O"
      },
      "source": [
        "# Sidebar: Formatting text as code\n",
        "\n",
        "You can use traditional HTML e.g. kbd, code, pre\n",
        "or you can surround code blocks with Markdown three backticks\n",
        "\n",
        "<pre>\n",
        "This is HTML preformatted.\n",
        "Which preserves line breaks\n",
        "and     any     spacing\n",
        "</pre>\n",
        "\n",
        "<code>This is HTML code.</code>\n",
        "\n",
        "```\n",
        "This is Markdown three backticks.\n",
        "```"
      ]
    }
  ]
}